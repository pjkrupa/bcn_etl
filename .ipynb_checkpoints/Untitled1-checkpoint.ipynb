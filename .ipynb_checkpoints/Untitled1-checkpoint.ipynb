{
 "cells": [
  {
   "cell_type": "code",
   "execution_count": 11,
   "id": "a75bdad4",
   "metadata": {},
   "outputs": [],
   "source": [
    "from db_load import Database, copy_package_to_db, get_file_names\n",
    "import os\n",
    "import psycopg2\n",
    "from psycopg2 import sql"
   ]
  },
  {
   "cell_type": "code",
   "execution_count": 3,
   "id": "5ee3c22f",
   "metadata": {},
   "outputs": [],
   "source": [
    "db_config = Database(db_user='postgres', db_host='hpmini', db_name='bcn_data')\n",
    "path = '.' \n",
    "package_name = 'pad_cdo_b_barri-des'"
   ]
  },
  {
   "cell_type": "code",
   "execution_count": 10,
   "id": "4aee9cb7",
   "metadata": {},
   "outputs": [
    {
     "ename": "SyntaxError",
     "evalue": "syntax error at or near \"-\"\nLINE 1: DROP TABLE pad_cdo_b_barri-des;\n                                  ^\n",
     "output_type": "error",
     "traceback": [
      "\u001b[31m---------------------------------------------------------------------------\u001b[39m",
      "\u001b[31mSyntaxError\u001b[39m                               Traceback (most recent call last)",
      "\u001b[36mCell\u001b[39m\u001b[36m \u001b[39m\u001b[32mIn[10]\u001b[39m\u001b[32m, line 3\u001b[39m\n\u001b[32m      1\u001b[39m \u001b[38;5;28;01mwith\u001b[39;00m psycopg2.connect(\u001b[33mf\u001b[39m\u001b[33m\"\u001b[39m\u001b[33mdbname=\u001b[39m\u001b[38;5;132;01m{\u001b[39;00mdb_config.db_name\u001b[38;5;132;01m}\u001b[39;00m\u001b[33m user=\u001b[39m\u001b[38;5;132;01m{\u001b[39;00mdb_config.db_user\u001b[38;5;132;01m}\u001b[39;00m\u001b[33m host=\u001b[39m\u001b[38;5;132;01m{\u001b[39;00mdb_config.db_host\u001b[38;5;132;01m}\u001b[39;00m\u001b[33m\"\u001b[39m) \u001b[38;5;28;01mas\u001b[39;00m conn:\n\u001b[32m      2\u001b[39m         cur = conn.cursor()\n\u001b[32m----> \u001b[39m\u001b[32m3\u001b[39m         \u001b[43mcur\u001b[49m\u001b[43m.\u001b[49m\u001b[43mexecute\u001b[49m\u001b[43m(\u001b[49m\u001b[33;43mf\u001b[39;49m\u001b[33;43m\"\u001b[39;49m\u001b[33;43mDROP TABLE \u001b[39;49m\u001b[38;5;132;43;01m{\u001b[39;49;00m\u001b[43mpackage_name\u001b[49m\u001b[38;5;132;43;01m}\u001b[39;49;00m\u001b[33;43m;\u001b[39;49m\u001b[33;43m\"\u001b[39;49m\u001b[43m)\u001b[49m \n",
      "\u001b[31mSyntaxError\u001b[39m: syntax error at or near \"-\"\nLINE 1: DROP TABLE pad_cdo_b_barri-des;\n                                  ^\n"
     ]
    }
   ],
   "source": [
    "with psycopg2.connect(f\"dbname={db_config.db_name} user={db_config.db_user} host={db_config.db_host}\") as conn:\n",
    "        cur = conn.cursor()\n",
    "        drop_sql = sql.SQL(\"DROP TABLE {}\").format(sql.Identifier(package_name))\n",
    "        cur.execute(drop_sql)"
   ]
  },
  {
   "cell_type": "code",
   "execution_count": 5,
   "id": "5b25b178",
   "metadata": {},
   "outputs": [
    {
     "ename": "FileNotFoundError",
     "evalue": "[Errno 2] No such file or directory: '2009_pad_cdo_b_barri-des.csv'",
     "output_type": "error",
     "traceback": [
      "\u001b[31m---------------------------------------------------------------------------\u001b[39m",
      "\u001b[31mFileNotFoundError\u001b[39m                         Traceback (most recent call last)",
      "\u001b[36mCell\u001b[39m\u001b[36m \u001b[39m\u001b[32mIn[5]\u001b[39m\u001b[32m, line 1\u001b[39m\n\u001b[32m----> \u001b[39m\u001b[32m1\u001b[39m \u001b[43mcopy_package_to_db\u001b[49m\u001b[43m(\u001b[49m\u001b[43mpath\u001b[49m\u001b[43m=\u001b[49m\u001b[33;43m'\u001b[39;49m\u001b[33;43m.\u001b[39;49m\u001b[33;43m'\u001b[39;49m\u001b[43m,\u001b[49m\u001b[43m \u001b[49m\u001b[43mpackage_name\u001b[49m\u001b[43m=\u001b[49m\u001b[33;43m'\u001b[39;49m\u001b[33;43mpad_cdo_b_barri-des\u001b[39;49m\u001b[33;43m'\u001b[39;49m\u001b[43m,\u001b[49m\u001b[43m \u001b[49m\u001b[43mdb_config\u001b[49m\u001b[43m=\u001b[49m\u001b[43mdb_config\u001b[49m\u001b[43m)\u001b[49m\n",
      "\u001b[36mFile \u001b[39m\u001b[32m~/data_projects/bcn_etl/db_load.py:75\u001b[39m, in \u001b[36mcopy_package_to_db\u001b[39m\u001b[34m(path, package_name, db_config)\u001b[39m\n\u001b[32m     68\u001b[39m \u001b[38;5;28;01mif\u001b[39;00m insert_df(\n\u001b[32m     69\u001b[39m     df=sample_df, \n\u001b[32m     70\u001b[39m     table_name=package_name,\n\u001b[32m     71\u001b[39m     db_config=db_config\n\u001b[32m     72\u001b[39m     ):\n\u001b[32m     74\u001b[39m     \u001b[38;5;28;01mfor\u001b[39;00m file \u001b[38;5;129;01min\u001b[39;00m file_names:\n\u001b[32m---> \u001b[39m\u001b[32m75\u001b[39m         \u001b[38;5;28;01mwith\u001b[39;00m \u001b[38;5;28;43mopen\u001b[39;49m\u001b[43m(\u001b[49m\u001b[43mfile\u001b[49m\u001b[43m,\u001b[49m\u001b[43m \u001b[49m\u001b[33;43m\"\u001b[39;49m\u001b[33;43mr\u001b[39;49m\u001b[33;43m\"\u001b[39;49m\u001b[43m)\u001b[49m \u001b[38;5;28;01mas\u001b[39;00m f:\n\u001b[32m     76\u001b[39m             cur.copy_expert(\u001b[33mf\u001b[39m\u001b[33m\"\u001b[39m\u001b[33mCOPY \u001b[39m\u001b[38;5;132;01m{\u001b[39;00mpackage_name\u001b[38;5;132;01m}\u001b[39;00m\u001b[33m FROM STDIN WITH CSV HEADER\u001b[39m\u001b[33m\"\u001b[39m, f)\n\u001b[32m     77\u001b[39m conn.commit()\n",
      "\u001b[31mFileNotFoundError\u001b[39m: [Errno 2] No such file or directory: '2009_pad_cdo_b_barri-des.csv'"
     ]
    }
   ],
   "source": [
    "copy_package_to_db(path='.', package_name='pad_cdo_b_barri-des', db_config=db_config)"
   ]
  },
  {
   "cell_type": "code",
   "execution_count": 4,
   "id": "6f82507b",
   "metadata": {},
   "outputs": [
    {
     "name": "stdout",
     "output_type": "stream",
     "text": [
      "./pad_cdo_b_barri-des\n",
      "['2000_pad_cdo_b_barri-des.csv', '2009_pad_cdo_b_barri-des.csv', '2016_pad_cdo_b_barri-des.csv', '2021_pad_cdo_b_barri-des.csv', '2022_pad_cdo_b_barri-des.csv', '2010_pad_cdo_b_barri-des.csv', '2024_pad_cdo_b_barri-des.csv', '2006_pad_cdo_b_barri-des.csv', '2018_pad_cdo_b_barri-des.csv', '2023_pad_cdo_b_barri-des.csv', '2004_pad_cdo_b_barri-des.csv', '2007_pad_cdo_b_barri-des.csv', '2003_pad_cdo_b_barri-des.csv', '2019_pad_cdo_b_barri-des.csv', '2001_pad_cdo_b_barri-des.csv', '2005_pad_cdo_b_barri-des.csv', '1998_pad_cdo_b_barri-des.csv', '2013_pad_cdo_b_barri-des.csv', '2020_pad_cdo_b_barri-des.csv', '1999_pad_cdo_b_barri-des.csv', '2002_pad_cdo_b_barri-des.csv', '2008_pad_cdo_b_barri-des.csv', '2011_pad_cdo_b_barri-des.csv', '1997_pad_cdo_b_barri-des.csv', '2014_pad_cdo_b_barri-des.csv', '2015_pad_cdo_b_barri-des.csv', '2017_pad_cdo_b_barri-des.csv', '2012_pad_cdo_b_barri-des.csv']\n"
     ]
    }
   ],
   "source": [
    "data_dir = os.path.join(path, package_name)\n",
    "print(data_dir)\n",
    "file_names = get_file_names(data_dir)\n",
    "print(file_names)"
   ]
  }
 ],
 "metadata": {
  "kernelspec": {
   "display_name": "Python (bcn_etl)",
   "language": "python",
   "name": "bcn_etl"
  },
  "language_info": {
   "codemirror_mode": {
    "name": "ipython",
    "version": 3
   },
   "file_extension": ".py",
   "mimetype": "text/x-python",
   "name": "python",
   "nbconvert_exporter": "python",
   "pygments_lexer": "ipython3",
   "version": "3.12.3"
  }
 },
 "nbformat": 4,
 "nbformat_minor": 5
}
