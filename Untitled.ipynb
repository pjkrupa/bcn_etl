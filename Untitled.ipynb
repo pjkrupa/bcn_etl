{
 "cells": [
  {
   "cell_type": "code",
   "execution_count": 13,
   "id": "58ac5540",
   "metadata": {},
   "outputs": [],
   "source": [
    "import pandas as pd\n",
    "from pipeline_functions import get_packages"
   ]
  },
  {
   "cell_type": "code",
   "execution_count": 11,
   "id": "545b6354",
   "metadata": {},
   "outputs": [
    {
     "data": {
      "text/html": [
       "<div>\n",
       "<style scoped>\n",
       "    .dataframe tbody tr th:only-of-type {\n",
       "        vertical-align: middle;\n",
       "    }\n",
       "\n",
       "    .dataframe tbody tr th {\n",
       "        vertical-align: top;\n",
       "    }\n",
       "\n",
       "    .dataframe thead th {\n",
       "        text-align: right;\n",
       "    }\n",
       "</style>\n",
       "<table border=\"1\" class=\"dataframe\">\n",
       "  <thead>\n",
       "    <tr style=\"text-align: right;\">\n",
       "      <th></th>\n",
       "      <th>name</th>\n",
       "      <th>tags_list</th>\n",
       "    </tr>\n",
       "  </thead>\n",
       "  <tbody>\n",
       "    <tr>\n",
       "      <th>0</th>\n",
       "      <td>20170706-districtes-barris</td>\n",
       "      <td>AEB, Alt Valor, Any 1996, Any 2010, Any 2014, ...</td>\n",
       "    </tr>\n",
       "    <tr>\n",
       "      <th>1</th>\n",
       "      <td>accessibilitat-via-publica</td>\n",
       "      <td>Accessibilitat, Any 2019, Any 2021, Any 2022, ...</td>\n",
       "    </tr>\n",
       "    <tr>\n",
       "      <th>2</th>\n",
       "      <td>accidents-causes-gu-bcn</td>\n",
       "      <td>Accidentalitat, Any 2010, Any 2011, Any 2012, ...</td>\n",
       "    </tr>\n",
       "    <tr>\n",
       "      <th>3</th>\n",
       "      <td>accidents-gu-bcn</td>\n",
       "      <td>Accidentalitat, Any 2010, Any 2011, Any 2012, ...</td>\n",
       "    </tr>\n",
       "    <tr>\n",
       "      <th>4</th>\n",
       "      <td>accidents-persones-gu-bcn</td>\n",
       "      <td>Accidentalitat, Any 2010, Any 2011, Any 2012, ...</td>\n",
       "    </tr>\n",
       "  </tbody>\n",
       "</table>\n",
       "</div>"
      ],
      "text/plain": [
       "                         name  \\\n",
       "0  20170706-districtes-barris   \n",
       "1  accessibilitat-via-publica   \n",
       "2     accidents-causes-gu-bcn   \n",
       "3            accidents-gu-bcn   \n",
       "4   accidents-persones-gu-bcn   \n",
       "\n",
       "                                           tags_list  \n",
       "0  AEB, Alt Valor, Any 1996, Any 2010, Any 2014, ...  \n",
       "1  Accessibilitat, Any 2019, Any 2021, Any 2022, ...  \n",
       "2  Accidentalitat, Any 2010, Any 2011, Any 2012, ...  \n",
       "3  Accidentalitat, Any 2010, Any 2011, Any 2012, ...  \n",
       "4  Accidentalitat, Any 2010, Any 2011, Any 2012, ...  "
      ]
     },
     "execution_count": 11,
     "metadata": {},
     "output_type": "execute_result"
    }
   ],
   "source": [
    "df = pd.read_csv(\"/home/peter/data_projects/barcelona/cataleg.csv\")\n",
    "df_tags = df[[\"name\", \"tags_list\"]]\n",
    "df_tags.head()"
   ]
  },
  {
   "cell_type": "code",
   "execution_count": 12,
   "id": "6a21ed2a",
   "metadata": {},
   "outputs": [],
   "source": [
    "df_tags.to_csv('/home/peter/data_projects/bcn_etl/catalog_tags.csv', index=False)"
   ]
  },
  {
   "cell_type": "code",
   "execution_count": 24,
   "id": "3fd88bbf",
   "metadata": {},
   "outputs": [],
   "source": [
    "tags = ['Seccions censals']\n",
    "packages = get_packages(tags)"
   ]
  },
  {
   "cell_type": "code",
   "execution_count": 26,
   "id": "e29f9f76",
   "metadata": {},
   "outputs": [
    {
     "name": "stdout",
     "output_type": "stream",
     "text": [
      "66\n"
     ]
    }
   ],
   "source": [
    "print(len(packages))"
   ]
  }
 ],
 "metadata": {
  "kernelspec": {
   "display_name": "Python (bcn_etl)",
   "language": "python",
   "name": "bcn_etl"
  },
  "language_info": {
   "codemirror_mode": {
    "name": "ipython",
    "version": 3
   },
   "file_extension": ".py",
   "mimetype": "text/x-python",
   "name": "python",
   "nbconvert_exporter": "python",
   "pygments_lexer": "ipython3",
   "version": "3.12.3"
  }
 },
 "nbformat": 4,
 "nbformat_minor": 5
}
