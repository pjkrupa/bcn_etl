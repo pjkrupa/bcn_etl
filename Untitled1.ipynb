{
 "cells": [
  {
   "cell_type": "code",
   "execution_count": 1,
   "id": "4529a5cf",
   "metadata": {},
   "outputs": [],
   "source": [
    "from db_load import Database, copy_package_to_db, get_file_names\n",
    "import os\n",
    "import psycopg2\n",
    "from psycopg2 import sql"
   ]
  },
  {
   "cell_type": "code",
   "execution_count": null,
   "id": "e545cf8f",
   "metadata": {},
   "outputs": [],
   "source": [
    "with psycopg2.connect(f\"dbname={db_config.db_name} user={db_config.db_user} host={db_config.db_host}\") as conn:\n",
    "    cur = conn.cursor()\n",
    "    drop_sql = sql.SQL(\"DROP TABLE {}\").format(sql.Identifier(package_name))\n",
    "    cur.execute(drop_sql)"
   ]
  },
  {
   "cell_type": "code",
   "execution_count": 2,
   "id": "ec2ae8ce",
   "metadata": {},
   "outputs": [],
   "source": [
    "db_config = Database(db_user='postgres', db_host='hpmini', db_name='bcn_data')\n",
    "path = '.' \n",
    "package_name = 'pad_cdo_b_barri-des'"
   ]
  },
  {
   "cell_type": "code",
   "execution_count": null,
   "id": "0b61bc66",
   "metadata": {},
   "outputs": [],
   "source": [
    "with psycopg2.connect(f\"dbname={db_config.db_name} user={db_config.db_user} host={db_config.db_host}\") as conn:\n",
    "        cur = conn.cursor()\n",
    "        query = sql.SQL"
   ]
  },
  {
   "cell_type": "code",
   "execution_count": 3,
   "id": "3e910d2c",
   "metadata": {},
   "outputs": [],
   "source": [
    "copy_package_to_db(path='.', package_name='pad_cdo_b_barri-des', db_config=db_config)"
   ]
  },
  {
   "cell_type": "code",
   "execution_count": 4,
   "id": "f8a17e49",
   "metadata": {},
   "outputs": [
    {
     "name": "stdout",
     "output_type": "stream",
     "text": [
      "Row count in pad_cdo_b_barri-des: 117612\n"
     ]
    }
   ],
   "source": [
    "with psycopg2.connect(f\"dbname={db_config.db_name} user={db_config.db_user} host={db_config.db_host}\") as conn:\n",
    "    cur = conn.cursor()\n",
    "    query = sql.SQL(\"SELECT COUNT(*) FROM {}\").format(sql.Identifier(package_name))\n",
    "    cur.execute(query)\n",
    "count = cur.fetchone()[0]\n",
    "print(f\"Row count in {package_name}: {count}\")\n"
   ]
  },
  {
   "cell_type": "code",
   "execution_count": null,
   "id": "76fe1513",
   "metadata": {},
   "outputs": [],
   "source": [
    "data_dir = os.path.join(path, package_name)\n",
    "print(data_dir)\n",
    "file_names = get_file_names(data_dir)\n",
    "print(file_names)"
   ]
  }
 ],
 "metadata": {
  "kernelspec": {
   "display_name": "Python (bcn_etl)",
   "language": "python",
   "name": "bcn_etl"
  },
  "language_info": {
   "codemirror_mode": {
    "name": "ipython",
    "version": 3
   },
   "file_extension": ".py",
   "mimetype": "text/x-python",
   "name": "python",
   "nbconvert_exporter": "python",
   "pygments_lexer": "ipython3",
   "version": "3.12.3"
  }
 },
 "nbformat": 4,
 "nbformat_minor": 5
}
